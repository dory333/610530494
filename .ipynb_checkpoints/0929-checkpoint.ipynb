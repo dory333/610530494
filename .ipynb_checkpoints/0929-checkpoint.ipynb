{
 "cells": [
  {
   "cell_type": "code",
   "execution_count": 1,
   "id": "ed12cc0a",
   "metadata": {},
   "outputs": [
    {
     "name": "stdout",
     "output_type": "stream",
     "text": [
      " 磁碟區 C 中的磁碟是 Local Disk\n",
      " 磁碟區序號:  AEDB-C391\n",
      "\n",
      " C:\\Users\\Dory\\DM\\610530494 的目錄\n",
      "\n",
      "2022/10/05  下午 09:01    <DIR>          .\n",
      "2022/10/05  下午 09:01    <DIR>          ..\n",
      "2022/10/05  下午 09:01    <DIR>          .ipynb_checkpoints\n",
      "2022/09/22  上午 11:39            19,139 0922.ipynb\n",
      "2022/10/05  下午 09:01                72 0929.ipynb\n",
      "2022/09/22  上午 11:19                11 README.md\n",
      "2022/09/22  上午 11:37           152,262 scores.csv\n",
      "               4 個檔案         171,484 位元組\n",
      "               3 個目錄  116,629,426,176 位元組可用\n"
     ]
    }
   ],
   "source": [
    "ls"
   ]
  },
  {
   "cell_type": "code",
   "execution_count": 4,
   "id": "79ca79a3",
   "metadata": {},
   "outputs": [
    {
     "name": "stdout",
     "output_type": "stream",
     "text": [
      "Overwriting hi.py\n"
     ]
    }
   ],
   "source": [
    "%%writefile hi.py   \n",
    "print(\"hi 0929!\")"
   ]
  },
  {
   "cell_type": "code",
   "execution_count": 3,
   "id": "813bb5d0",
   "metadata": {},
   "outputs": [
    {
     "name": "stdout",
     "output_type": "stream",
     "text": [
      "hi 0929!\n"
     ]
    }
   ],
   "source": [
    "run hi.py"
   ]
  },
  {
   "cell_type": "code",
   "execution_count": 5,
   "id": "54362400",
   "metadata": {},
   "outputs": [],
   "source": [
    "a = 1    "
   ]
  },
  {
   "cell_type": "code",
   "execution_count": 6,
   "id": "27e70101",
   "metadata": {},
   "outputs": [],
   "source": [
    "b = 2"
   ]
  },
  {
   "cell_type": "code",
   "execution_count": 7,
   "id": "72767274",
   "metadata": {},
   "outputs": [
    {
     "name": "stdout",
     "output_type": "stream",
     "text": [
      "Variable   Type    Data/Info\n",
      "----------------------------\n",
      "a          int     1\n",
      "b          int     2\n"
     ]
    }
   ],
   "source": [
    "whos"
   ]
  },
  {
   "cell_type": "code",
   "execution_count": 8,
   "id": "cf30edda",
   "metadata": {},
   "outputs": [
    {
     "name": "stdout",
     "output_type": "stream",
     "text": [
      "Requirement already satisfied: Numpy in c:\\users\\dory\\anaconda3\\lib\\site-packages (1.20.1)\n",
      "Note: you may need to restart the kernel to use updated packages.\n"
     ]
    }
   ],
   "source": [
    "pip install Numpy"
   ]
  },
  {
   "cell_type": "code",
   "execution_count": 9,
   "id": "d177039c",
   "metadata": {},
   "outputs": [],
   "source": [
    "import numpy as np"
   ]
  },
  {
   "cell_type": "code",
   "execution_count": 10,
   "id": "83249b21",
   "metadata": {},
   "outputs": [],
   "source": [
    "np1 = np.array([1,2,3,4])\n",
    "np2 = np.array((5,6,7,8))"
   ]
  },
  {
   "cell_type": "code",
   "execution_count": 11,
   "id": "4397a94a",
   "metadata": {},
   "outputs": [
    {
     "name": "stdout",
     "output_type": "stream",
     "text": [
      "[1 2 3 4]\n",
      "[5 6 7 8]\n",
      "<class 'numpy.ndarray'> <class 'numpy.ndarray'>\n"
     ]
    }
   ],
   "source": [
    "print(np1)\n",
    "print(np2)\n",
    "print(type(np1), type(np2))"
   ]
  },
  {
   "cell_type": "code",
   "execution_count": 13,
   "id": "9ed14a24",
   "metadata": {},
   "outputs": [],
   "source": [
    "np3 = np.arange(0, 31, 2)"
   ]
  },
  {
   "cell_type": "code",
   "execution_count": 14,
   "id": "557c3394",
   "metadata": {},
   "outputs": [
    {
     "data": {
      "text/plain": [
       "array([ 0,  2,  4,  6,  8, 10, 12, 14, 16, 18, 20, 22, 24, 26, 28, 30])"
      ]
     },
     "execution_count": 14,
     "metadata": {},
     "output_type": "execute_result"
    }
   ],
   "source": [
    "np3"
   ]
  },
  {
   "cell_type": "code",
   "execution_count": 15,
   "id": "9d7a16a1",
   "metadata": {},
   "outputs": [],
   "source": [
    "np4 = np.linspace(1, 15, 5)"
   ]
  },
  {
   "cell_type": "code",
   "execution_count": 16,
   "id": "49d1682c",
   "metadata": {},
   "outputs": [
    {
     "data": {
      "text/plain": [
       "array([ 1. ,  4.5,  8. , 11.5, 15. ])"
      ]
     },
     "execution_count": 16,
     "metadata": {},
     "output_type": "execute_result"
    }
   ],
   "source": [
    "np4"
   ]
  },
  {
   "cell_type": "code",
   "execution_count": 17,
   "id": "691a2d4f",
   "metadata": {},
   "outputs": [],
   "source": [
    "np5 = np.zeros((5,))"
   ]
  },
  {
   "cell_type": "code",
   "execution_count": 18,
   "id": "e60e44ca",
   "metadata": {},
   "outputs": [
    {
     "data": {
      "text/plain": [
       "array([0., 0., 0., 0., 0.])"
      ]
     },
     "execution_count": 18,
     "metadata": {},
     "output_type": "execute_result"
    }
   ],
   "source": [
    "np5"
   ]
  },
  {
   "cell_type": "code",
   "execution_count": 19,
   "id": "ee111406",
   "metadata": {},
   "outputs": [],
   "source": [
    "np6 = np.ones((5,))"
   ]
  },
  {
   "cell_type": "code",
   "execution_count": 20,
   "id": "695a555f",
   "metadata": {},
   "outputs": [
    {
     "data": {
      "text/plain": [
       "array([1., 1., 1., 1., 1.])"
      ]
     },
     "execution_count": 20,
     "metadata": {},
     "output_type": "execute_result"
    }
   ],
   "source": [
    "np6"
   ]
  },
  {
   "cell_type": "code",
   "execution_count": 21,
   "id": "f0f32fa1",
   "metadata": {},
   "outputs": [],
   "source": [
    "np7 = np.ones((5,3))"
   ]
  },
  {
   "cell_type": "code",
   "execution_count": 22,
   "id": "d6cc4f5d",
   "metadata": {},
   "outputs": [
    {
     "data": {
      "text/plain": [
       "array([[1., 1., 1.],\n",
       "       [1., 1., 1.],\n",
       "       [1., 1., 1.],\n",
       "       [1., 1., 1.],\n",
       "       [1., 1., 1.]])"
      ]
     },
     "execution_count": 22,
     "metadata": {},
     "output_type": "execute_result"
    }
   ],
   "source": [
    "np7"
   ]
  },
  {
   "cell_type": "code",
   "execution_count": 23,
   "id": "e3494938",
   "metadata": {},
   "outputs": [],
   "source": [
    "listdata = [[1,2,3,4,5],\n",
    "           [6,7,8,9,10]]\n",
    "np8 = np.array(listdata)"
   ]
  },
  {
   "cell_type": "code",
   "execution_count": 24,
   "id": "b909ff41",
   "metadata": {},
   "outputs": [
    {
     "data": {
      "text/plain": [
       "[[1, 2, 3, 4, 5], [6, 7, 8, 9, 10]]"
      ]
     },
     "execution_count": 24,
     "metadata": {},
     "output_type": "execute_result"
    }
   ],
   "source": [
    "listdata"
   ]
  },
  {
   "cell_type": "code",
   "execution_count": null,
   "id": "8793edcd",
   "metadata": {},
   "outputs": [],
   "source": [
    "np8"
   ]
  },
  {
   "cell_type": "code",
   "execution_count": 25,
   "id": "d5567f91",
   "metadata": {},
   "outputs": [
    {
     "name": "stdout",
     "output_type": "stream",
     "text": [
      "維度 2\n",
      "形狀 (2, 5)\n",
      "數量 10\n"
     ]
    }
   ],
   "source": [
    "print(\"維度\", np8.ndim)\n",
    "print(\"形狀\", np8.shape)\n",
    "print(\"數量\", np8.size)"
   ]
  },
  {
   "cell_type": "code",
   "execution_count": 26,
   "id": "2ef40b73",
   "metadata": {},
   "outputs": [
    {
     "name": "stdout",
     "output_type": "stream",
     "text": [
      "[ 1  2  3  4  5  6  7  8  9 10 11 12 13 14 15 16 17 18 19 20]\n",
      "[[ 1  2  3  4  5]\n",
      " [ 6  7  8  9 10]\n",
      " [11 12 13 14 15]\n",
      " [16 17 18 19 20]]\n"
     ]
    }
   ],
   "source": [
    "np9 = np.arange(1, 21)\n",
    "print(np9)\n",
    "np10 = np9.reshape(4, 5)   \n",
    "print(np10)"
   ]
  },
  {
   "cell_type": "code",
   "execution_count": 27,
   "id": "64c3ed83",
   "metadata": {},
   "outputs": [
    {
     "name": "stdout",
     "output_type": "stream",
     "text": [
      "[0 1 2 3 4 5 6 7 8]\n",
      "0\n",
      "8\n",
      "[1 2 3 4 5 6 7]\n",
      "[1 3 5 7]\n",
      "[8 7 6 5 4 3 2]\n",
      "[0 1 2 3 4 5 6 7 8]\n",
      "[4 5 6 7 8]\n",
      "[0 1 2 3]\n"
     ]
    }
   ],
   "source": [
    "#取一維資料\n",
    "np10 =np.arange(0, 9)\n",
    "print(np10)\n",
    "print(np10[0])\n",
    "print(np10[8])\n",
    "print(np10[1:8])\n",
    "print(np10[1:8:2])\n",
    "print(np10[8:1:-1])\n",
    "print(np10[:])\n",
    "print(np10[4:])\n",
    "print(np10[:4])"
   ]
  },
  {
   "cell_type": "code",
   "execution_count": 28,
   "id": "06c74e7a",
   "metadata": {},
   "outputs": [
    {
     "name": "stdout",
     "output_type": "stream",
     "text": [
      "[[ 1  2  3  4]\n",
      " [ 5  6  7  8]\n",
      " [ 9 10 11 12]\n",
      " [13 14 15 16]\n",
      " [17 18 19 20]] \n",
      "\n",
      "3 \n",
      "\n",
      "7 \n",
      "\n",
      "3 \n",
      "\n",
      "[ 7 11] \n",
      "\n",
      "[[ 6  7]\n",
      " [10 11]] \n",
      "\n",
      "[[ 1  3]\n",
      " [ 9 11]\n",
      " [17 19]] \n",
      "\n",
      "[ 3  7 11 15 19] \n",
      "\n",
      "[5 6 7 8] \n",
      "\n",
      "[[ 1  2  3  4]\n",
      " [ 5  6  7  8]\n",
      " [ 9 10 11 12]\n",
      " [13 14 15 16]\n",
      " [17 18 19 20]]\n"
     ]
    }
   ],
   "source": [
    "#取二維陣列資料\n",
    "\n",
    "np11 = np.arange(1, 21).reshape(5, 4)\n",
    "print(np11,\"\\n\")\n",
    "print(np11[0, 2],\"\\n\")\n",
    "print(np11[1, 2],\"\\n\")\n",
    "print(np11[0][2],\"\\n\")\n",
    "print(np11[1:3, 2],\"\\n\")\n",
    "print(np11[1:3, 1:3],\"\\n\")\n",
    "print(np11[::2, ::2],\"\\n\")\n",
    "print(np11[:, 2],\"\\n\")\n",
    "print(np11[1, :],\"\\n\")\n",
    "print(np11[:, :])"
   ]
  },
  {
   "cell_type": "code",
   "execution_count": 30,
   "id": "d9dd028d",
   "metadata": {},
   "outputs": [],
   "source": [
    "np12 = np.genfromtxt('score.csv', delimiter=',', skip_header=1)"
   ]
  },
  {
   "cell_type": "code",
   "execution_count": 31,
   "id": "057ec605",
   "metadata": {},
   "outputs": [
    {
     "data": {
      "text/plain": [
       "array([[ 1., 87., 85., 82.],\n",
       "       [ 2., 92., 87., 90.],\n",
       "       [ 3., 80., 91., 87.],\n",
       "       [ 4., 78., 82., 95.],\n",
       "       [ 5., 88., 89., 90.],\n",
       "       [ 6., 82., 87., 88.],\n",
       "       [ 7., 90., 92., 82.],\n",
       "       [ 8., 87., 80., 90.],\n",
       "       [ 9., 95., 78., 87.],\n",
       "       [10., 90., 88., 95.],\n",
       "       [11., 88., 89., 75.],\n",
       "       [12., 82., 91., 66.],\n",
       "       [13., 90., 82., 87.],\n",
       "       [14., 87., 89., 92.],\n",
       "       [15., 95., 87., 80.],\n",
       "       [16., 90., 92., 78.],\n",
       "       [17., 82., 80., 88.],\n",
       "       [18., 90., 78., 93.],\n",
       "       [19., 67., 87., 95.],\n",
       "       [20., 91., 82., 88.],\n",
       "       [21., 82., 81., 82.],\n",
       "       [22., 79., 87., 90.],\n",
       "       [23., 87., 92., 87.],\n",
       "       [24., 92., 82., 95.],\n",
       "       [25., 80., 90., 78.],\n",
       "       [26., 78., 76., 91.],\n",
       "       [27., 66., 90., 82.],\n",
       "       [28., 89., 77., 89.],\n",
       "       [29., 87., 95., 87.],\n",
       "       [30., 73., 90., 92.]])"
      ]
     },
     "execution_count": 31,
     "metadata": {},
     "output_type": "execute_result"
    }
   ],
   "source": [
    "np12"
   ]
  },
  {
   "cell_type": "code",
   "execution_count": 35,
   "id": "f88267b0",
   "metadata": {},
   "outputs": [],
   "source": [
    "np13 = np.genfromtxt('00878.TW.csv', delimiter=',', skip_header=1)"
   ]
  },
  {
   "cell_type": "code",
   "execution_count": 36,
   "id": "dbc12952",
   "metadata": {},
   "outputs": [
    {
     "data": {
      "text/plain": [
       "array([[          nan, 1.5000000e+01, 1.5000000e+01, ..., 1.5000000e+01,\n",
       "        1.5000000e+01, 0.0000000e+00],\n",
       "       [          nan, 1.4990000e+01, 1.4990000e+01, ..., 1.4990000e+01,\n",
       "        1.4990000e+01, 0.0000000e+00],\n",
       "       [          nan, 1.4980000e+01, 1.4980000e+01, ..., 1.4980000e+01,\n",
       "        1.4980000e+01, 0.0000000e+00],\n",
       "       ...,\n",
       "       [          nan, 1.7350000e+01, 1.7400000e+01, ..., 1.7320000e+01,\n",
       "        1.7320000e+01, 1.9682412e+07],\n",
       "       [          nan, 1.7500000e+01, 1.7549999e+01, ..., 1.7250000e+01,\n",
       "        1.7250000e+01, 3.4420055e+07],\n",
       "       [          nan, 1.7100000e+01, 1.7139999e+01, ..., 1.7080000e+01,\n",
       "        1.7080000e+01, 9.0933910e+07]])"
      ]
     },
     "execution_count": 36,
     "metadata": {},
     "output_type": "execute_result"
    }
   ],
   "source": [
    "np13"
   ]
  }
 ],
 "metadata": {
  "kernelspec": {
   "display_name": "Python 3",
   "language": "python",
   "name": "python3"
  },
  "language_info": {
   "codemirror_mode": {
    "name": "ipython",
    "version": 3
   },
   "file_extension": ".py",
   "mimetype": "text/x-python",
   "name": "python",
   "nbconvert_exporter": "python",
   "pygments_lexer": "ipython3",
   "version": "3.8.8"
  }
 },
 "nbformat": 4,
 "nbformat_minor": 5
}
